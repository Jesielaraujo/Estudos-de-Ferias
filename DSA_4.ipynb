{
 "cells": [
  {
   "cell_type": "code",
   "execution_count": 1,
   "metadata": {},
   "outputs": [
    {
     "data": {
      "text/plain": [
       "2"
      ]
     },
     "execution_count": 1,
     "metadata": {},
     "output_type": "execute_result"
    }
   ],
   "source": [
    "1 + 1\n"
   ]
  },
  {
   "cell_type": "code",
   "execution_count": 2,
   "metadata": {},
   "outputs": [
    {
     "name": "stdout",
     "output_type": "stream",
     "text": [
      "ola,mundo\n"
     ]
    }
   ],
   "source": [
    "print('ola,mundo')"
   ]
  },
  {
   "cell_type": "code",
   "execution_count": 4,
   "metadata": {},
   "outputs": [
    {
     "name": "stdout",
     "output_type": "stream",
     "text": [
      "Qual seu nome?Jesi\n",
      "ola,Jesi!\n"
     ]
    }
   ],
   "source": [
    "nome = input('Qual seu nome?')\n",
    "print(\"ola,\"+ nome +\"!\")"
   ]
  },
  {
   "cell_type": "code",
   "execution_count": 6,
   "metadata": {
    "scrolled": true
   },
   "outputs": [
    {
     "name": "stdout",
     "output_type": "stream",
     "text": [
      "55\n"
     ]
    }
   ],
   "source": [
    "a = \"5\"\n",
    "b = \"5\" \n",
    "print(a+b)"
   ]
  },
  {
   "cell_type": "code",
   "execution_count": null,
   "metadata": {},
   "outputs": [],
   "source": [
    "/* Pseudocodigo para calcular a area do parelograma\n",
    "1 - declarar as varaiaveis de altura e comprimento\n",
    "2 - inserir os valores da base e altura\n",
    "3 - fazzer o calculoda da area base x altura\n",
    "4 - imprimir o resultado */\n"
   ]
  },
  {
   "cell_type": "code",
   "execution_count": 12,
   "metadata": {},
   "outputs": [
    {
     "name": "stdout",
     "output_type": "stream",
     "text": [
      "qual a altura?9\n",
      "qual o comprimentio?10\n",
      "a Area é: 90.0\n"
     ]
    }
   ],
   "source": [
    "\n",
    "a = float(input(\"qual a altura?\"))\n",
    "\n",
    "c = float(input(\"qual o comprimentio?\"))\n",
    "\n",
    "Area = a * c\n",
    "print('a Area é:', Area )"
   ]
  },
  {
   "cell_type": "code",
   "execution_count": null,
   "metadata": {},
   "outputs": [],
   "source": [
    "CALCULADORA\n",
    "1 - Variaveis dos numeros\n",
    "2 - usuario digitar os numeros\n",
    "3 - escolher a operação \n",
    "4 - imprimir o resultado\n"
   ]
  },
  {
   "cell_type": "code",
   "execution_count": null,
   "metadata": {},
   "outputs": [],
   "source": [
    "print(\"Bem vindo a calculadora simples\")\n",
    "\n",
    "a = float(input(\"Digite o primeiro valor:\"))\n",
    "b = float(input(\"Digite o segundo valor\"))\n",
    "\n",
    "op = input(\"DIgite a operação: + : Soma , - :Subtração , / Divisão , * : Multiplicação.\")\n",
    "\n",
    "if op == \"+\":\n",
    "    resultado = a + b\n",
    "    print(\"Resultado é:\", resultado)\n",
    "\n",
    "elif op == \"-\":\n",
    "    resultado = a - b\n",
    "    print(\"Resultado é:\", resultado)\n",
    "\n",
    "elif op ==\"*\":\n",
    "    resultado = a * b\n",
    "    print(\"resultado é:\",resultado)\n",
    "\n",
    "elif op ==\"/\" :\n",
    "    resultado = a % b\n",
    "    print(\"resultado é:\", resultado)\n",
    "\n",
    "elif op ==0:\n",
    "    print(\"operação invalida\")"
   ]
  },
  {
   "cell_type": "code",
   "execution_count": null,
   "metadata": {},
   "outputs": [],
   "source": [
    "Pseudocodoigo para ordena uma lista de menor para maior\n",
    "1 - lista desordenada\n",
    "2 - "
   ]
  },
  {
   "cell_type": "code",
   "execution_count": null,
   "metadata": {},
   "outputs": [],
   "source": [
    "type(5)"
   ]
  },
  {
   "cell_type": "code",
   "execution_count": null,
   "metadata": {},
   "outputs": [],
   "source": []
  }
 ],
 "metadata": {
  "kernelspec": {
   "display_name": "Python 3",
   "language": "python",
   "name": "python3"
  },
  "language_info": {
   "codemirror_mode": {
    "name": "ipython",
    "version": 3
   },
   "file_extension": ".py",
   "mimetype": "text/x-python",
   "name": "python",
   "nbconvert_exporter": "python",
   "pygments_lexer": "ipython3",
   "version": "3.6.5"
  }
 },
 "nbformat": 4,
 "nbformat_minor": 2
}
